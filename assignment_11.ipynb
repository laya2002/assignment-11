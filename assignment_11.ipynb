{
  "nbformat": 4,
  "nbformat_minor": 0,
  "metadata": {
    "colab": {
      "name": "assignment 11.ipynb",
      "provenance": [],
      "authorship_tag": "ABX9TyNjEdFkX4XGDuXy6FIYZtYc",
      "include_colab_link": true
    },
    "kernelspec": {
      "name": "python3",
      "display_name": "Python 3"
    }
  },
  "cells": [
    {
      "cell_type": "markdown",
      "metadata": {
        "id": "view-in-github",
        "colab_type": "text"
      },
      "source": [
        "<a href=\"https://colab.research.google.com/github/laya2002/assignment-11/blob/master/assignment_11.ipynb\" target=\"_parent\"><img src=\"https://colab.research.google.com/assets/colab-badge.svg\" alt=\"Open In Colab\"/></a>"
      ]
    },
    {
      "cell_type": "code",
      "metadata": {
        "id": "yVnvqvvbu1hH",
        "colab_type": "code",
        "colab": {}
      },
      "source": [
        ""
      ],
      "execution_count": null,
      "outputs": []
    },
    {
      "cell_type": "markdown",
      "metadata": {
        "id": "alGzR0H0u7l2",
        "colab_type": "text"
      },
      "source": [
        "1.write a python program to read an entire text file"
      ]
    },
    {
      "cell_type": "code",
      "metadata": {
        "id": "sq3fYHCdvCuW",
        "colab_type": "code",
        "colab": {}
      },
      "source": [
        "f=open(\"python.txt\",\"w\")\n",
        "f.close()"
      ],
      "execution_count": 1,
      "outputs": []
    },
    {
      "cell_type": "code",
      "metadata": {
        "id": "uXT1uXp-vK88",
        "colab_type": "code",
        "colab": {}
      },
      "source": [
        "f=open(\"python1.txt\",\"w\")\n",
        "f.write(\"hey how do you do\")\n",
        "f.close()"
      ],
      "execution_count": 2,
      "outputs": []
    },
    {
      "cell_type": "code",
      "metadata": {
        "id": "sfv086VvvRI_",
        "colab_type": "code",
        "colab": {
          "base_uri": "https://localhost:8080/",
          "height": 34
        },
        "outputId": "a679f920-9ac9-42a6-93f9-a09edcee5d6a"
      },
      "source": [
        "f=open(\"python1.txt\",\"r\")\n",
        "str=f.read()\n",
        "print(str)\n",
        "f.close()"
      ],
      "execution_count": 3,
      "outputs": [
        {
          "output_type": "stream",
          "text": [
            "hey how do you do\n"
          ],
          "name": "stdout"
        }
      ]
    },
    {
      "cell_type": "markdown",
      "metadata": {
        "id": "SIisCnc-vflJ",
        "colab_type": "text"
      },
      "source": [
        "2.write a python program to read first n lines of a file"
      ]
    },
    {
      "cell_type": "code",
      "metadata": {
        "id": "McWDqcMSvgnj",
        "colab_type": "code",
        "colab": {}
      },
      "source": [
        "a_file=open(\"file_name.txt\",\"w\")\n",
        "f.close()"
      ],
      "execution_count": 8,
      "outputs": []
    },
    {
      "cell_type": "code",
      "metadata": {
        "id": "cUhjIk3Kv0gW",
        "colab_type": "code",
        "colab": {
          "base_uri": "https://localhost:8080/",
          "height": 34
        },
        "outputId": "d3931e2a-a64f-4872-ae64-f7b418d1b486"
      },
      "source": [
        "a_file = open(\"file_name.txt\")\n",
        "number_of_lines = 3\n",
        "for i in range(number_of_lines):\n",
        "    line = a_file.readline()\n",
        "print(line)"
      ],
      "execution_count": 10,
      "outputs": [
        {
          "output_type": "stream",
          "text": [
            "\n"
          ],
          "name": "stdout"
        }
      ]
    },
    {
      "cell_type": "markdown",
      "metadata": {
        "id": "LhbcTeTSwFnO",
        "colab_type": "text"
      },
      "source": [
        "3.Write a Python program to append text to a file and display the text.\n"
      ]
    },
    {
      "cell_type": "code",
      "metadata": {
        "id": "LE4GJF2BwHN_",
        "colab_type": "code",
        "colab": {}
      },
      "source": [
        "f=open(\"python.txt\",\"w\")\n",
        "f.close()"
      ],
      "execution_count": 11,
      "outputs": []
    },
    {
      "cell_type": "code",
      "metadata": {
        "id": "gC_49jtGwONC",
        "colab_type": "code",
        "colab": {}
      },
      "source": [
        "f=open(\"python1.txt\",\"w\")\n",
        "f.write(\"hey how do you do\")\n",
        "f.close()"
      ],
      "execution_count": 12,
      "outputs": []
    },
    {
      "cell_type": "code",
      "metadata": {
        "id": "bDxq-lTGwUko",
        "colab_type": "code",
        "colab": {
          "base_uri": "https://localhost:8080/",
          "height": 34
        },
        "outputId": "23b73a0e-4bbb-46b9-b5cd-670432370c49"
      },
      "source": [
        "f=open(\"python1.txt\",\"r\")\n",
        "print(f.read())\n",
        "f.close()"
      ],
      "execution_count": 13,
      "outputs": [
        {
          "output_type": "stream",
          "text": [
            "hey how do you do\n"
          ],
          "name": "stdout"
        }
      ]
    },
    {
      "cell_type": "code",
      "metadata": {
        "id": "xx7E8xYAwgqV",
        "colab_type": "code",
        "colab": {}
      },
      "source": [
        "f=open(\"python1.txt\",\"a\")\n",
        "s='''am \n",
        "   Fine'''\n",
        "f.write(s)\n",
        "f.close()"
      ],
      "execution_count": 14,
      "outputs": []
    },
    {
      "cell_type": "markdown",
      "metadata": {
        "id": "s9-po78Nwk6w",
        "colab_type": "text"
      },
      "source": [
        "4.Write a Python program to read last n lines of a file."
      ]
    },
    {
      "cell_type": "code",
      "metadata": {
        "id": "-oR3LJeswmTF",
        "colab_type": "code",
        "colab": {
          "base_uri": "https://localhost:8080/",
          "height": 34
        },
        "outputId": "ecc47f9f-abf5-490b-f5b9-da29c84d83b3"
      },
      "source": [
        "def LastNlines(fname, N):\n",
        "  with open(fname) as file:\n",
        "    for line in (file.readlines() [-N:]):\n",
        "      print(line, end ='')\n",
        "if __name__ == '__main__':\n",
        "  fname = 'File1.txt'\n",
        "  N = 3\n",
        "  try:\n",
        "   LastNlines(fname, N) \n",
        "  except:\n",
        "   print('File not found')"
      ],
      "execution_count": 15,
      "outputs": [
        {
          "output_type": "stream",
          "text": [
            "File not found\n"
          ],
          "name": "stdout"
        }
      ]
    },
    {
      "cell_type": "markdown",
      "metadata": {
        "id": "8uPtYehLw02k",
        "colab_type": "text"
      },
      "source": [
        "5.Write a Python program to read a file line by line store it into a variable."
      ]
    },
    {
      "cell_type": "code",
      "metadata": {
        "id": "tPRJX2akw11q",
        "colab_type": "code",
        "colab": {}
      },
      "source": [
        "f1=open(\"test.txt\",\"w\")\n",
        "f.close()"
      ],
      "execution_count": 16,
      "outputs": []
    },
    {
      "cell_type": "code",
      "metadata": {
        "id": "5jQqa8KMxAI_",
        "colab_type": "code",
        "colab": {}
      },
      "source": [
        "f1=open(\"test1.txt\",\"w\")\n",
        "f1.write(\"hi\")\n",
        "f.close()"
      ],
      "execution_count": 17,
      "outputs": []
    },
    {
      "cell_type": "code",
      "metadata": {
        "id": "o2xtwA5YxEWC",
        "colab_type": "code",
        "colab": {
          "base_uri": "https://localhost:8080/",
          "height": 34
        },
        "outputId": "c0cfd4cd-5708-4bcd-d6f6-dc9373701461"
      },
      "source": [
        "f1=open('test1.txt').readlines()\n",
        "print(f1)"
      ],
      "execution_count": 19,
      "outputs": [
        {
          "output_type": "stream",
          "text": [
            "['hi']\n"
          ],
          "name": "stdout"
        }
      ]
    },
    {
      "cell_type": "markdown",
      "metadata": {
        "id": "517WCk6fxNJv",
        "colab_type": "text"
      },
      "source": [
        "6.write a program to read a file line by line store it into a list"
      ]
    },
    {
      "cell_type": "code",
      "metadata": {
        "id": "oCIksF3uxOYx",
        "colab_type": "code",
        "colab": {}
      },
      "source": [
        "infile=open(\"test.txt\",\"w\")\n",
        "f.close()"
      ],
      "execution_count": 23,
      "outputs": []
    },
    {
      "cell_type": "code",
      "metadata": {
        "id": "cB1uamL8xV3i",
        "colab_type": "code",
        "colab": {}
      },
      "source": [
        "infile=open(\"test1.txt\",\"w\")\n",
        "infile.write(\"hello\")\n",
        "f.close()"
      ],
      "execution_count": 26,
      "outputs": []
    },
    {
      "cell_type": "code",
      "metadata": {
        "id": "3vtPzxoJxc09",
        "colab_type": "code",
        "colab": {
          "base_uri": "https://localhost:8080/",
          "height": 34
        },
        "outputId": "5d1c81a8-70d6-4781-c1b2-10c275034a0f"
      },
      "source": [
        "infile = \"test1.txt\"\n",
        "content_list = open(infile).readlines()\n",
        "print (content_list)"
      ],
      "execution_count": 27,
      "outputs": [
        {
          "output_type": "stream",
          "text": [
            "['hello']\n"
          ],
          "name": "stdout"
        }
      ]
    },
    {
      "cell_type": "markdown",
      "metadata": {
        "id": "VusrR3J-xlQB",
        "colab_type": "text"
      },
      "source": [
        "7.write a python program to read a file line by line store it into a array."
      ]
    },
    {
      "cell_type": "code",
      "metadata": {
        "id": "1vDXA5dIxn9J",
        "colab_type": "code",
        "colab": {}
      },
      "source": [
        "f2=open(\"test1.txt\",\"w\")\n",
        "f.close()"
      ],
      "execution_count": 28,
      "outputs": []
    },
    {
      "cell_type": "code",
      "metadata": {
        "id": "hSqJRODtxxL_",
        "colab_type": "code",
        "colab": {}
      },
      "source": [
        "f2=open(\"test1.txt\",\"w\")\n",
        "s='''how\n",
        "     are\n",
        "     You'''\n",
        "f2.write(s)\n",
        "f.close()"
      ],
      "execution_count": 29,
      "outputs": []
    },
    {
      "cell_type": "code",
      "metadata": {
        "id": "5NIwCV4qx226",
        "colab_type": "code",
        "colab": {
          "base_uri": "https://localhost:8080/",
          "height": 34
        },
        "outputId": "bb8c8529-cccb-4261-8a6b-a77a63fe9457"
      },
      "source": [
        "f2=(\"test1.txt\")\n",
        "content_array=open(f2).readlines()\n",
        "print(content_array)"
      ],
      "execution_count": 31,
      "outputs": [
        {
          "output_type": "stream",
          "text": [
            "['how\\n', '     are\\n', '     You']\n"
          ],
          "name": "stdout"
        }
      ]
    },
    {
      "cell_type": "markdown",
      "metadata": {
        "id": "yA3oHg85yBdE",
        "colab_type": "text"
      },
      "source": [
        "8.Write a Python program to count the number of lines in a text file."
      ]
    },
    {
      "cell_type": "code",
      "metadata": {
        "id": "RirgH7PuyCma",
        "colab_type": "code",
        "colab": {}
      },
      "source": [
        "f3=open(\"file.txt\",\"w\")\n",
        "f3.close()"
      ],
      "execution_count": 32,
      "outputs": []
    },
    {
      "cell_type": "code",
      "metadata": {
        "id": "UXs1AijUyNHC",
        "colab_type": "code",
        "colab": {}
      },
      "source": [
        "f3=open(\"file.txt\",\"w\")\n",
        "s='''i\n",
        "     love to\n",
        "     Code'''\n",
        "f3.write(s)\n",
        "f3.close()"
      ],
      "execution_count": 33,
      "outputs": []
    },
    {
      "cell_type": "code",
      "metadata": {
        "id": "P-psj-btyRdF",
        "colab_type": "code",
        "colab": {
          "base_uri": "https://localhost:8080/",
          "height": 34
        },
        "outputId": "0c5897bb-ce6d-45a2-b809-3c663c3b5725"
      },
      "source": [
        "f3=open(\"file.txt\",\"r\")\n",
        "s=f3.read()\n",
        "print(len(s.split('\\n')))\n",
        "f.close()"
      ],
      "execution_count": 34,
      "outputs": [
        {
          "output_type": "stream",
          "text": [
            "3\n"
          ],
          "name": "stdout"
        }
      ]
    },
    {
      "cell_type": "markdown",
      "metadata": {
        "id": "1vL9P9GsyYCV",
        "colab_type": "text"
      },
      "source": [
        "9.write a python program to get the file size of a plain file."
      ]
    },
    {
      "cell_type": "code",
      "metadata": {
        "id": "WKTL8vDiyZNj",
        "colab_type": "code",
        "colab": {}
      },
      "source": [
        "file=open(\"test.txt\",\"w\")\n",
        "f.close()"
      ],
      "execution_count": 35,
      "outputs": []
    },
    {
      "cell_type": "code",
      "metadata": {
        "id": "3eVNiiinyiLk",
        "colab_type": "code",
        "colab": {}
      },
      "source": [
        "file=open(\"test.txt\",\"w\")\n",
        "file.write(\"good night\")\n",
        "f.close()"
      ],
      "execution_count": 36,
      "outputs": []
    },
    {
      "cell_type": "code",
      "metadata": {
        "id": "o2NX0HPVynjd",
        "colab_type": "code",
        "colab": {
          "base_uri": "https://localhost:8080/",
          "height": 34
        },
        "outputId": "ff3ebd30-b0e4-42f9-c6ee-34eef7addf6e"
      },
      "source": [
        "import os\n",
        "os.path.getsize(\"test.txt\")"
      ],
      "execution_count": 37,
      "outputs": [
        {
          "output_type": "execute_result",
          "data": {
            "text/plain": [
              "0"
            ]
          },
          "metadata": {
            "tags": []
          },
          "execution_count": 37
        }
      ]
    },
    {
      "cell_type": "markdown",
      "metadata": {
        "id": "Guyiy8fTyqXd",
        "colab_type": "text"
      },
      "source": [
        "10.write a python program to copy the contents of a file into another."
      ]
    },
    {
      "cell_type": "code",
      "metadata": {
        "id": "V3bYJRnJyvaZ",
        "colab_type": "code",
        "colab": {}
      },
      "source": [
        "file1=open(\"f1.txt\",\"w\")\n",
        "file1.close()"
      ],
      "execution_count": 38,
      "outputs": []
    },
    {
      "cell_type": "code",
      "metadata": {
        "id": "qehIb8apy2FO",
        "colab_type": "code",
        "colab": {}
      },
      "source": [
        "file1=open(\"f1.txt\",\"w\")\n",
        "s='''welcome \n",
        "     to gitam \n",
        "     University'''\n",
        "file1.write(s)\n",
        "file1.close()"
      ],
      "execution_count": 40,
      "outputs": []
    },
    {
      "cell_type": "code",
      "metadata": {
        "id": "M2LTGLB1y9Mz",
        "colab_type": "code",
        "colab": {}
      },
      "source": [
        "file2=open(\"f2.txt\",\"w\")\n",
        "file1=open(\"f1.txt\",\"r\")\n",
        "for line in file1:\n",
        "  file2.write(line)\n",
        "file1.close()\n",
        "file2.close()"
      ],
      "execution_count": 41,
      "outputs": []
    }
  ]
}